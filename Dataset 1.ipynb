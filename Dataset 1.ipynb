{
 "cells": [
  {
   "cell_type": "code",
   "execution_count": 4,
   "id": "c40780b6",
   "metadata": {},
   "outputs": [
    {
     "data": {
      "text/html": [
       "<img src=\"https://img.s3wfg.com/web/img/images_uploaded/4/d/ibex35cb22.gif\"/>"
      ],
      "text/plain": [
       "<IPython.core.display.Image object>"
      ]
     },
     "execution_count": 4,
     "metadata": {},
     "output_type": "execute_result"
    }
   ],
   "source": [
    "Image(url= \"https://img.s3wfg.com/web/img/images_uploaded/4/d/ibex35cb22.gif\")"
   ]
  },
  {
   "cell_type": "code",
   "execution_count": null,
   "id": "89f6e380",
   "metadata": {},
   "outputs": [],
   "source": [
    "# 1º En este apartado se procederá a la extracción de los datos de la página del Ibex35, scrapeándolo, y luego \n",
    "# estructurándolos para obtener un dataset con todos ellos, que nos proporcione la información sobre la situación \n",
    "# actual de la Bolsa en el momento que se lo solicitemos."
   ]
  },
  {
   "cell_type": "code",
   "execution_count": null,
   "id": "9d99a742",
   "metadata": {},
   "outputs": [],
   "source": [
    "# Librerías:"
   ]
  },
  {
   "cell_type": "code",
   "execution_count": 3,
   "id": "36fcf8bd",
   "metadata": {},
   "outputs": [],
   "source": [
    "import pandas as pd\n",
    "import numpy as np\n",
    "from IPython.display import Image\n",
    "from IPython.core.display import HTML\n",
    "from bs4 import BeautifulSoup\n",
    "import requests"
   ]
  },
  {
   "cell_type": "code",
   "execution_count": null,
   "id": "6fd6b1ff",
   "metadata": {},
   "outputs": [],
   "source": []
  },
  {
   "cell_type": "code",
   "execution_count": null,
   "id": "f735d05f",
   "metadata": {},
   "outputs": [],
   "source": []
  },
  {
   "cell_type": "code",
   "execution_count": null,
   "id": "0a17ced4",
   "metadata": {},
   "outputs": [],
   "source": []
  },
  {
   "cell_type": "code",
   "execution_count": null,
   "id": "6266d76c",
   "metadata": {},
   "outputs": [],
   "source": []
  }
 ],
 "metadata": {
  "kernelspec": {
   "display_name": "ironhack",
   "language": "python",
   "name": "ironhack"
  },
  "language_info": {
   "codemirror_mode": {
    "name": "ipython",
    "version": 3
   },
   "file_extension": ".py",
   "mimetype": "text/x-python",
   "name": "python",
   "nbconvert_exporter": "python",
   "pygments_lexer": "ipython3",
   "version": "3.8.5"
  }
 },
 "nbformat": 4,
 "nbformat_minor": 5
}
