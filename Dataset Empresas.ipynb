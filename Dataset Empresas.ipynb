{
 "cells": [
  {
   "cell_type": "code",
   "execution_count": null,
   "id": "3c11b2dc",
   "metadata": {},
   "outputs": [],
   "source": [
    "import pandas as pd\n"
   ]
  },
  {
   "cell_type": "code",
   "execution_count": null,
   "id": "6943819b",
   "metadata": {},
   "outputs": [],
   "source": [
    "df1 = pd.read_csv('data/Acciona.csv')\n",
    "df1"
   ]
  },
  {
   "cell_type": "code",
   "execution_count": null,
   "id": "7e4a45e3",
   "metadata": {},
   "outputs": [],
   "source": [
    "df2 = pd.read_csv('data/Acellormital.csv')\n",
    "df2"
   ]
  },
  {
   "cell_type": "code",
   "execution_count": null,
   "id": "064086ce",
   "metadata": {},
   "outputs": [],
   "source": [
    "df3 = pd.read_csv('data/Acerinox.csv')\n",
    "df3"
   ]
  },
  {
   "cell_type": "code",
   "execution_count": null,
   "id": "00b03540",
   "metadata": {},
   "outputs": [],
   "source": [
    "df4 = pd.read_csv('data/ACS.csv')\n",
    "df4"
   ]
  },
  {
   "cell_type": "code",
   "execution_count": null,
   "id": "bd04ec25",
   "metadata": {},
   "outputs": [],
   "source": [
    "df5 = pd.read_csv('data/Aena.csv')\n",
    "df5"
   ]
  },
  {
   "cell_type": "code",
   "execution_count": null,
   "id": "9621a1da",
   "metadata": {},
   "outputs": [],
   "source": [
    "df6 = pd.read_csv('data/Almiral.csv')\n",
    "df6"
   ]
  },
  {
   "cell_type": "code",
   "execution_count": null,
   "id": "b6ad4e98",
   "metadata": {},
   "outputs": [],
   "source": [
    "df7 = pd.read_csv('data/Amadeus.csv')\n",
    "df7"
   ]
  },
  {
   "cell_type": "code",
   "execution_count": null,
   "id": "c308d5c0",
   "metadata": {},
   "outputs": [],
   "source": [
    "df8 = pd.read_csv('data/Bankinter.csv')\n",
    "df8"
   ]
  },
  {
   "cell_type": "code",
   "execution_count": null,
   "id": "92de8003",
   "metadata": {},
   "outputs": [],
   "source": [
    "df9 = pd.read_csv('data/BBVA.csv')\n",
    "df9"
   ]
  },
  {
   "cell_type": "code",
   "execution_count": null,
   "id": "96b6ac37",
   "metadata": {},
   "outputs": [],
   "source": [
    "df10 = pd.read_csv('data/Caixabank.csv')\n",
    "df10"
   ]
  },
  {
   "cell_type": "code",
   "execution_count": null,
   "id": "fb21d211",
   "metadata": {},
   "outputs": [],
   "source": [
    "df11 = pd.read_csv('data/Cellnex.csv')\n",
    "df11"
   ]
  },
  {
   "cell_type": "code",
   "execution_count": null,
   "id": "ca87f789",
   "metadata": {},
   "outputs": [],
   "source": [
    "df12 = pd.read_csv('data/Cieautomotive.csv')\n",
    "df12"
   ]
  },
  {
   "cell_type": "code",
   "execution_count": null,
   "id": "2432016c",
   "metadata": {},
   "outputs": [],
   "source": [
    "df13 = pd.read_csv('data/Colonial.csv')\n",
    "df13"
   ]
  },
  {
   "cell_type": "code",
   "execution_count": null,
   "id": "9b4411f3",
   "metadata": {},
   "outputs": [],
   "source": [
    "df14 = pd.read_csv('data/Enagas.csv')\n",
    "df14"
   ]
  },
  {
   "cell_type": "code",
   "execution_count": null,
   "id": "7fcf0ab4",
   "metadata": {},
   "outputs": [],
   "source": [
    "df15 = pd.read_csv('data/Endesa.csv')\n",
    "df15"
   ]
  },
  {
   "cell_type": "code",
   "execution_count": null,
   "id": "3aedee2e",
   "metadata": {},
   "outputs": [],
   "source": [
    "df16 = pd.read_csv('data/Ferrovial.csv')\n",
    "df16"
   ]
  },
  {
   "cell_type": "code",
   "execution_count": null,
   "id": "2ca46324",
   "metadata": {},
   "outputs": [],
   "source": [
    "df17 = pd.read_csv('data/Fluidra.csv')\n",
    "df17"
   ]
  },
  {
   "cell_type": "code",
   "execution_count": null,
   "id": "ead0fb13",
   "metadata": {},
   "outputs": [],
   "source": [
    "df18 = pd.read_csv('data/Grifols.csv')\n",
    "df18"
   ]
  },
  {
   "cell_type": "code",
   "execution_count": null,
   "id": "273b476e",
   "metadata": {},
   "outputs": [],
   "source": [
    "df19 = pd.read_csv('data/Hotels.csv')\n",
    "df19"
   ]
  },
  {
   "cell_type": "code",
   "execution_count": null,
   "id": "fcfed95d",
   "metadata": {},
   "outputs": [],
   "source": [
    "df20 = pd.read_csv('data/Iberdrola.csv')\n",
    "df20"
   ]
  },
  {
   "cell_type": "code",
   "execution_count": null,
   "id": "e8d6fedb",
   "metadata": {},
   "outputs": [],
   "source": [
    "df21 = pd.read_csv('data/ICAG.csv')\n",
    "df21"
   ]
  },
  {
   "cell_type": "code",
   "execution_count": null,
   "id": "8fb0aa80",
   "metadata": {},
   "outputs": [],
   "source": [
    "df22 = pd.read_csv('data/Inditex.csv')\n",
    "df22"
   ]
  },
  {
   "cell_type": "code",
   "execution_count": null,
   "id": "165978ac",
   "metadata": {
    "scrolled": true
   },
   "outputs": [],
   "source": [
    "df23 = pd.read_csv('data/Indra.csv')\n",
    "df23"
   ]
  },
  {
   "cell_type": "code",
   "execution_count": null,
   "id": "27da05e1",
   "metadata": {},
   "outputs": [],
   "source": [
    "df24 = pd.read_csv('data/Mapfre.csv')\n",
    "df24"
   ]
  },
  {
   "cell_type": "code",
   "execution_count": null,
   "id": "c47fb389",
   "metadata": {},
   "outputs": [],
   "source": [
    "df25 = pd.read_csv('data/Merlin.csv')\n",
    "df25"
   ]
  },
  {
   "cell_type": "code",
   "execution_count": null,
   "id": "c340ad40",
   "metadata": {},
   "outputs": [],
   "source": [
    "df26 = pd.read_csv('data/Naturgy.csv')\n",
    "df26"
   ]
  },
  {
   "cell_type": "code",
   "execution_count": null,
   "id": "60b86893",
   "metadata": {},
   "outputs": [],
   "source": [
    "df27 = pd.read_csv('data/Pharmamar.csv')\n",
    "df27"
   ]
  },
  {
   "cell_type": "code",
   "execution_count": null,
   "id": "f41ae6f7",
   "metadata": {},
   "outputs": [],
   "source": [
    "df28 = pd.read_csv('data/Redelectrica.csv')\n",
    "df28"
   ]
  },
  {
   "cell_type": "code",
   "execution_count": null,
   "id": "c63b0fb8",
   "metadata": {},
   "outputs": [],
   "source": [
    "df29 = pd.read_csv('data/Repsol.csv')\n",
    "df29"
   ]
  },
  {
   "cell_type": "code",
   "execution_count": null,
   "id": "7d9d7fb5",
   "metadata": {},
   "outputs": [],
   "source": [
    "df30 = pd.read_csv('data/Sabadell.csv')\n",
    "df30"
   ]
  },
  {
   "cell_type": "code",
   "execution_count": null,
   "id": "e5ed7932",
   "metadata": {},
   "outputs": [],
   "source": [
    "df31 = pd.read_csv('data/Santander.csv')\n",
    "df31"
   ]
  },
  {
   "cell_type": "code",
   "execution_count": null,
   "id": "be42a700",
   "metadata": {},
   "outputs": [],
   "source": [
    "df32 = pd.read_csv('data/Siemens.csv')\n",
    "df32"
   ]
  },
  {
   "cell_type": "code",
   "execution_count": null,
   "id": "f632614b",
   "metadata": {},
   "outputs": [],
   "source": [
    "df33 = pd.read_csv('data/Solaria.csv')\n",
    "df33"
   ]
  },
  {
   "cell_type": "code",
   "execution_count": null,
   "id": "1e0f5726",
   "metadata": {},
   "outputs": [],
   "source": [
    "df34 = pd.read_csv('data/Telefonica.csv')\n",
    "df34"
   ]
  },
  {
   "cell_type": "code",
   "execution_count": null,
   "id": "e89112bd",
   "metadata": {},
   "outputs": [],
   "source": [
    "df35 = pd.read_csv('data/Viscofan.csv')\n",
    "df35"
   ]
  }
 ],
 "metadata": {
  "kernelspec": {
   "display_name": "ironhack",
   "language": "python",
   "name": "ironhack"
  },
  "language_info": {
   "codemirror_mode": {
    "name": "ipython",
    "version": 3
   },
   "file_extension": ".py",
   "mimetype": "text/x-python",
   "name": "python",
   "nbconvert_exporter": "python",
   "pygments_lexer": "ipython3",
   "version": "3.8.5"
  }
 },
 "nbformat": 4,
 "nbformat_minor": 5
}
