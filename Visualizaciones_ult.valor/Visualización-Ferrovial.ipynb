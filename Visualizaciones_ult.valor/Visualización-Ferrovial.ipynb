{
 "cells": [
  {
   "cell_type": "code",
   "execution_count": 30,
   "id": "aacefa15",
   "metadata": {},
   "outputs": [],
   "source": [
    "import csv\n",
    "import os\n",
    "import pandas as pd\n",
    "import numpy as np\n",
    "import seaborn as sns\n",
    "import matplotlib.pyplot as plt\n",
    "import matplotlib.dates as mdates"
   ]
  },
  {
   "cell_type": "code",
   "execution_count": 31,
   "id": "2bb29a62",
   "metadata": {},
   "outputs": [],
   "source": [
    "%matplotlib inline\n",
    "%config Inlinebackend.figure_format= 'retina'"
   ]
  },
  {
   "cell_type": "code",
   "execution_count": 32,
   "id": "e90c1835",
   "metadata": {},
   "outputs": [],
   "source": [
    "sns.set_context(\"poster\")\n",
    "sns.set(rc={\"figure.figsize\": (20.,8.)})\n",
    "sns.set_style(\"whitegrid\")"
   ]
  },
  {
   "cell_type": "code",
   "execution_count": 33,
   "id": "32e525d7",
   "metadata": {},
   "outputs": [
    {
     "data": {
      "text/html": [
       "<div>\n",
       "<style scoped>\n",
       "    .dataframe tbody tr th:only-of-type {\n",
       "        vertical-align: middle;\n",
       "    }\n",
       "\n",
       "    .dataframe tbody tr th {\n",
       "        vertical-align: top;\n",
       "    }\n",
       "\n",
       "    .dataframe thead th {\n",
       "        text-align: right;\n",
       "    }\n",
       "</style>\n",
       "<table border=\"1\" class=\"dataframe\">\n",
       "  <thead>\n",
       "    <tr style=\"text-align: right;\">\n",
       "      <th></th>\n",
       "      <th>Fecha</th>\n",
       "      <th>Último</th>\n",
       "      <th>Apertura</th>\n",
       "      <th>Máximo</th>\n",
       "      <th>Mínimo</th>\n",
       "      <th>Vol.</th>\n",
       "      <th>% var.</th>\n",
       "    </tr>\n",
       "  </thead>\n",
       "  <tbody>\n",
       "    <tr>\n",
       "      <th>0</th>\n",
       "      <td>10.12.2021</td>\n",
       "      <td>25,490</td>\n",
       "      <td>25,600</td>\n",
       "      <td>25,790</td>\n",
       "      <td>25,490</td>\n",
       "      <td>431,03K</td>\n",
       "      <td>-0,89%</td>\n",
       "    </tr>\n",
       "    <tr>\n",
       "      <th>1</th>\n",
       "      <td>09.12.2021</td>\n",
       "      <td>25,720</td>\n",
       "      <td>25,970</td>\n",
       "      <td>25,980</td>\n",
       "      <td>25,710</td>\n",
       "      <td>736,62K</td>\n",
       "      <td>-0,66%</td>\n",
       "    </tr>\n",
       "    <tr>\n",
       "      <th>2</th>\n",
       "      <td>08.12.2021</td>\n",
       "      <td>25,890</td>\n",
       "      <td>26,250</td>\n",
       "      <td>26,430</td>\n",
       "      <td>25,890</td>\n",
       "      <td>2,26M</td>\n",
       "      <td>-1,48%</td>\n",
       "    </tr>\n",
       "    <tr>\n",
       "      <th>3</th>\n",
       "      <td>07.12.2021</td>\n",
       "      <td>26,280</td>\n",
       "      <td>26,000</td>\n",
       "      <td>26,420</td>\n",
       "      <td>25,800</td>\n",
       "      <td>1,05M</td>\n",
       "      <td>1,90%</td>\n",
       "    </tr>\n",
       "    <tr>\n",
       "      <th>4</th>\n",
       "      <td>06.12.2021</td>\n",
       "      <td>25,790</td>\n",
       "      <td>25,730</td>\n",
       "      <td>25,980</td>\n",
       "      <td>25,680</td>\n",
       "      <td>1,30M</td>\n",
       "      <td>1,54%</td>\n",
       "    </tr>\n",
       "    <tr>\n",
       "      <th>...</th>\n",
       "      <td>...</td>\n",
       "      <td>...</td>\n",
       "      <td>...</td>\n",
       "      <td>...</td>\n",
       "      <td>...</td>\n",
       "      <td>...</td>\n",
       "      <td>...</td>\n",
       "    </tr>\n",
       "    <tr>\n",
       "      <th>238</th>\n",
       "      <td>08.01.2021</td>\n",
       "      <td>21,810</td>\n",
       "      <td>21,545</td>\n",
       "      <td>21,967</td>\n",
       "      <td>21,516</td>\n",
       "      <td>3,07M</td>\n",
       "      <td>1,88%</td>\n",
       "    </tr>\n",
       "    <tr>\n",
       "      <th>239</th>\n",
       "      <td>07.01.2021</td>\n",
       "      <td>21,408</td>\n",
       "      <td>21,800</td>\n",
       "      <td>21,800</td>\n",
       "      <td>21,133</td>\n",
       "      <td>1,36M</td>\n",
       "      <td>-1,36%</td>\n",
       "    </tr>\n",
       "    <tr>\n",
       "      <th>240</th>\n",
       "      <td>06.01.2021</td>\n",
       "      <td>21,702</td>\n",
       "      <td>21,663</td>\n",
       "      <td>21,840</td>\n",
       "      <td>21,457</td>\n",
       "      <td>1,34M</td>\n",
       "      <td>1,05%</td>\n",
       "    </tr>\n",
       "    <tr>\n",
       "      <th>241</th>\n",
       "      <td>05.01.2021</td>\n",
       "      <td>21,477</td>\n",
       "      <td>21,565</td>\n",
       "      <td>21,840</td>\n",
       "      <td>21,437</td>\n",
       "      <td>1,13M</td>\n",
       "      <td>-1,44%</td>\n",
       "    </tr>\n",
       "    <tr>\n",
       "      <th>242</th>\n",
       "      <td>04.01.2021</td>\n",
       "      <td>21,791</td>\n",
       "      <td>22,487</td>\n",
       "      <td>22,831</td>\n",
       "      <td>21,702</td>\n",
       "      <td>1,47M</td>\n",
       "      <td>-1,73%</td>\n",
       "    </tr>\n",
       "  </tbody>\n",
       "</table>\n",
       "<p>243 rows × 7 columns</p>\n",
       "</div>"
      ],
      "text/plain": [
       "          Fecha  Último Apertura  Máximo  Mínimo     Vol.  % var.\n",
       "0    10.12.2021  25,490   25,600  25,790  25,490  431,03K  -0,89%\n",
       "1    09.12.2021  25,720   25,970  25,980  25,710  736,62K  -0,66%\n",
       "2    08.12.2021  25,890   26,250  26,430  25,890    2,26M  -1,48%\n",
       "3    07.12.2021  26,280   26,000  26,420  25,800    1,05M   1,90%\n",
       "4    06.12.2021  25,790   25,730  25,980  25,680    1,30M   1,54%\n",
       "..          ...     ...      ...     ...     ...      ...     ...\n",
       "238  08.01.2021  21,810   21,545  21,967  21,516    3,07M   1,88%\n",
       "239  07.01.2021  21,408   21,800  21,800  21,133    1,36M  -1,36%\n",
       "240  06.01.2021  21,702   21,663  21,840  21,457    1,34M   1,05%\n",
       "241  05.01.2021  21,477   21,565  21,840  21,437    1,13M  -1,44%\n",
       "242  04.01.2021  21,791   22,487  22,831  21,702    1,47M  -1,73%\n",
       "\n",
       "[243 rows x 7 columns]"
      ]
     },
     "execution_count": 33,
     "metadata": {},
     "output_type": "execute_result"
    }
   ],
   "source": [
    "df2 = pd.read_csv('data/Ferrovial.csv')\n",
    "df2"
   ]
  },
  {
   "cell_type": "code",
   "execution_count": 34,
   "id": "377886bb",
   "metadata": {},
   "outputs": [],
   "source": [
    "df2[\"Último\"] = df2[\"Último\"].str.replace(\",\", \".\")\n",
    "df2[\"Apertura\"] = df2[\"Apertura\"].str.replace(\",\", \".\")\n",
    "df2[\"Máximo\"] = df2[\"Máximo\"].str.replace(\",\", \".\")\n",
    "df2[\"Mínimo\"] = df2[\"Mínimo\"].str.replace(\",\", \".\")\n",
    "df2[\"Vol.\"] = df2[\"Vol.\"].str.replace(\",\", \".\")\n",
    "df2[\"% var.\"] = df2[\"% var.\"].str.replace(\",\", \".\")"
   ]
  },
  {
   "cell_type": "code",
   "execution_count": 35,
   "id": "3c968e47",
   "metadata": {},
   "outputs": [],
   "source": [
    "df2 = df2.astype({\"Último\" : \"float\"})"
   ]
  },
  {
   "cell_type": "code",
   "execution_count": 36,
   "id": "003f2c1a",
   "metadata": {},
   "outputs": [],
   "source": [
    "df2 = df2.astype({\"Apertura\" : \"float\"})"
   ]
  },
  {
   "cell_type": "code",
   "execution_count": 37,
   "id": "2380a382",
   "metadata": {},
   "outputs": [],
   "source": [
    "df2 = df2.astype({\"Máximo\" : \"float\"})"
   ]
  },
  {
   "cell_type": "code",
   "execution_count": 38,
   "id": "8c81b576",
   "metadata": {},
   "outputs": [],
   "source": [
    "df2 = df2.astype({\"Mínimo\" : \"float\"})"
   ]
  },
  {
   "cell_type": "code",
   "execution_count": 39,
   "id": "081324e4",
   "metadata": {},
   "outputs": [],
   "source": [
    "def astype_vol(x):\n",
    "    try:\n",
    "        return float(x) \n",
    "    except: \n",
    "        return np.nan"
   ]
  },
  {
   "cell_type": "code",
   "execution_count": 40,
   "id": "f682a6a1",
   "metadata": {},
   "outputs": [
    {
     "data": {
      "text/html": [
       "<div>\n",
       "<style scoped>\n",
       "    .dataframe tbody tr th:only-of-type {\n",
       "        vertical-align: middle;\n",
       "    }\n",
       "\n",
       "    .dataframe tbody tr th {\n",
       "        vertical-align: top;\n",
       "    }\n",
       "\n",
       "    .dataframe thead th {\n",
       "        text-align: right;\n",
       "    }\n",
       "</style>\n",
       "<table border=\"1\" class=\"dataframe\">\n",
       "  <thead>\n",
       "    <tr style=\"text-align: right;\">\n",
       "      <th></th>\n",
       "      <th>Fecha</th>\n",
       "      <th>Último</th>\n",
       "      <th>Apertura</th>\n",
       "      <th>Máximo</th>\n",
       "      <th>Mínimo</th>\n",
       "      <th>Vol.</th>\n",
       "      <th>% var.</th>\n",
       "    </tr>\n",
       "  </thead>\n",
       "  <tbody>\n",
       "    <tr>\n",
       "      <th>0</th>\n",
       "      <td>10.12.2021</td>\n",
       "      <td>25.49</td>\n",
       "      <td>25.60</td>\n",
       "      <td>25.79</td>\n",
       "      <td>25.49</td>\n",
       "      <td>431.03K</td>\n",
       "      <td>-0.89%</td>\n",
       "    </tr>\n",
       "    <tr>\n",
       "      <th>1</th>\n",
       "      <td>09.12.2021</td>\n",
       "      <td>25.72</td>\n",
       "      <td>25.97</td>\n",
       "      <td>25.98</td>\n",
       "      <td>25.71</td>\n",
       "      <td>736.62K</td>\n",
       "      <td>-0.66%</td>\n",
       "    </tr>\n",
       "    <tr>\n",
       "      <th>2</th>\n",
       "      <td>08.12.2021</td>\n",
       "      <td>25.89</td>\n",
       "      <td>26.25</td>\n",
       "      <td>26.43</td>\n",
       "      <td>25.89</td>\n",
       "      <td>2.26M</td>\n",
       "      <td>-1.48%</td>\n",
       "    </tr>\n",
       "    <tr>\n",
       "      <th>3</th>\n",
       "      <td>07.12.2021</td>\n",
       "      <td>26.28</td>\n",
       "      <td>26.00</td>\n",
       "      <td>26.42</td>\n",
       "      <td>25.80</td>\n",
       "      <td>1.05M</td>\n",
       "      <td>1.90%</td>\n",
       "    </tr>\n",
       "    <tr>\n",
       "      <th>4</th>\n",
       "      <td>06.12.2021</td>\n",
       "      <td>25.79</td>\n",
       "      <td>25.73</td>\n",
       "      <td>25.98</td>\n",
       "      <td>25.68</td>\n",
       "      <td>1.30M</td>\n",
       "      <td>1.54%</td>\n",
       "    </tr>\n",
       "  </tbody>\n",
       "</table>\n",
       "</div>"
      ],
      "text/plain": [
       "        Fecha  Último  Apertura  Máximo  Mínimo     Vol.  % var.\n",
       "0  10.12.2021   25.49     25.60   25.79   25.49  431.03K  -0.89%\n",
       "1  09.12.2021   25.72     25.97   25.98   25.71  736.62K  -0.66%\n",
       "2  08.12.2021   25.89     26.25   26.43   25.89    2.26M  -1.48%\n",
       "3  07.12.2021   26.28     26.00   26.42   25.80    1.05M   1.90%\n",
       "4  06.12.2021   25.79     25.73   25.98   25.68    1.30M   1.54%"
      ]
     },
     "execution_count": 40,
     "metadata": {},
     "output_type": "execute_result"
    }
   ],
   "source": [
    "df2.head()"
   ]
  },
  {
   "cell_type": "code",
   "execution_count": 41,
   "id": "adc719e9",
   "metadata": {},
   "outputs": [],
   "source": [
    "df2[\"Vol.\"] = df2[\"Vol.\"].str.replace(\"K\",\"\")\n",
    "df2[\"% var.\"] = df2[\"% var.\"].str.replace(\"%\",\"\")"
   ]
  },
  {
   "cell_type": "code",
   "execution_count": 42,
   "id": "7abb3b8e",
   "metadata": {},
   "outputs": [],
   "source": [
    "df2[\"Vol.\"] = df2[\"Vol.\"].apply(astype_vol)"
   ]
  },
  {
   "cell_type": "code",
   "execution_count": 43,
   "id": "64af86ee",
   "metadata": {},
   "outputs": [],
   "source": [
    "df2[\"% var.\"] = df2[\"% var.\"].apply(astype_vol)\n"
   ]
  },
  {
   "cell_type": "code",
   "execution_count": 44,
   "id": "2cc15efc",
   "metadata": {},
   "outputs": [],
   "source": [
    "df2['date'] = pd.to_datetime(df2['Fecha']).dt.date"
   ]
  },
  {
   "cell_type": "code",
   "execution_count": 45,
   "id": "2697f61f",
   "metadata": {},
   "outputs": [],
   "source": [
    "df2[[\"Fecha2\"]] = df2[[\"Fecha\"]].apply(pd.to_datetime)# ME DESCUADRA LA TABLA"
   ]
  },
  {
   "cell_type": "code",
   "execution_count": 46,
   "id": "83abd44f",
   "metadata": {},
   "outputs": [
    {
     "data": {
      "text/plain": [
       "Fecha               object\n",
       "Último             float64\n",
       "Apertura           float64\n",
       "Máximo             float64\n",
       "Mínimo             float64\n",
       "Vol.               float64\n",
       "% var.             float64\n",
       "date                object\n",
       "Fecha2      datetime64[ns]\n",
       "dtype: object"
      ]
     },
     "execution_count": 46,
     "metadata": {},
     "output_type": "execute_result"
    }
   ],
   "source": [
    "df2.dtypes"
   ]
  },
  {
   "cell_type": "code",
   "execution_count": 47,
   "id": "832e38ab",
   "metadata": {},
   "outputs": [
    {
     "data": {
      "text/html": [
       "<div>\n",
       "<style scoped>\n",
       "    .dataframe tbody tr th:only-of-type {\n",
       "        vertical-align: middle;\n",
       "    }\n",
       "\n",
       "    .dataframe tbody tr th {\n",
       "        vertical-align: top;\n",
       "    }\n",
       "\n",
       "    .dataframe thead th {\n",
       "        text-align: right;\n",
       "    }\n",
       "</style>\n",
       "<table border=\"1\" class=\"dataframe\">\n",
       "  <thead>\n",
       "    <tr style=\"text-align: right;\">\n",
       "      <th></th>\n",
       "      <th>Fecha</th>\n",
       "      <th>Último</th>\n",
       "      <th>Apertura</th>\n",
       "      <th>Máximo</th>\n",
       "      <th>Mínimo</th>\n",
       "      <th>Vol.</th>\n",
       "      <th>% var.</th>\n",
       "      <th>date</th>\n",
       "      <th>Fecha2</th>\n",
       "    </tr>\n",
       "  </thead>\n",
       "  <tbody>\n",
       "    <tr>\n",
       "      <th>0</th>\n",
       "      <td>10.12.2021</td>\n",
       "      <td>25.49</td>\n",
       "      <td>25.60</td>\n",
       "      <td>25.79</td>\n",
       "      <td>25.49</td>\n",
       "      <td>431.03</td>\n",
       "      <td>-0.89</td>\n",
       "      <td>2021-10-12</td>\n",
       "      <td>2021-10-12</td>\n",
       "    </tr>\n",
       "    <tr>\n",
       "      <th>1</th>\n",
       "      <td>09.12.2021</td>\n",
       "      <td>25.72</td>\n",
       "      <td>25.97</td>\n",
       "      <td>25.98</td>\n",
       "      <td>25.71</td>\n",
       "      <td>736.62</td>\n",
       "      <td>-0.66</td>\n",
       "      <td>2021-09-12</td>\n",
       "      <td>2021-09-12</td>\n",
       "    </tr>\n",
       "  </tbody>\n",
       "</table>\n",
       "</div>"
      ],
      "text/plain": [
       "        Fecha  Último  Apertura  Máximo  Mínimo    Vol.  % var.        date  \\\n",
       "0  10.12.2021   25.49     25.60   25.79   25.49  431.03   -0.89  2021-10-12   \n",
       "1  09.12.2021   25.72     25.97   25.98   25.71  736.62   -0.66  2021-09-12   \n",
       "\n",
       "      Fecha2  \n",
       "0 2021-10-12  \n",
       "1 2021-09-12  "
      ]
     },
     "execution_count": 47,
     "metadata": {},
     "output_type": "execute_result"
    }
   ],
   "source": [
    "df2.head(2)"
   ]
  },
  {
   "cell_type": "code",
   "execution_count": null,
   "id": "3977f965",
   "metadata": {},
   "outputs": [],
   "source": [
    "#df2.yea"
   ]
  },
  {
   "cell_type": "code",
   "execution_count": 48,
   "id": "c5316feb",
   "metadata": {},
   "outputs": [],
   "source": [
    "def month(x):\n",
    "    return x.split('.')[1]\n",
    "def year(x):\n",
    "    return x.split('.')[2]"
   ]
  },
  {
   "cell_type": "code",
   "execution_count": 49,
   "id": "91d0d3dc",
   "metadata": {},
   "outputs": [],
   "source": [
    "df2['month'] = df2['Fecha'].apply(month)\n",
    "df2['year'] = df2['Fecha'].apply(year)"
   ]
  },
  {
   "cell_type": "code",
   "execution_count": 50,
   "id": "926f1ade",
   "metadata": {},
   "outputs": [],
   "source": [
    "empresax = pd.DataFrame(df2.groupby([\"year\", \"month\"])[\"Apertura\"].mean()).reset_index()"
   ]
  },
  {
   "cell_type": "code",
   "execution_count": 51,
   "id": "1477f93c",
   "metadata": {},
   "outputs": [
    {
     "data": {
      "text/html": [
       "<div>\n",
       "<style scoped>\n",
       "    .dataframe tbody tr th:only-of-type {\n",
       "        vertical-align: middle;\n",
       "    }\n",
       "\n",
       "    .dataframe tbody tr th {\n",
       "        vertical-align: top;\n",
       "    }\n",
       "\n",
       "    .dataframe thead th {\n",
       "        text-align: right;\n",
       "    }\n",
       "</style>\n",
       "<table border=\"1\" class=\"dataframe\">\n",
       "  <thead>\n",
       "    <tr style=\"text-align: right;\">\n",
       "      <th></th>\n",
       "      <th>year</th>\n",
       "      <th>month</th>\n",
       "      <th>Apertura</th>\n",
       "    </tr>\n",
       "  </thead>\n",
       "  <tbody>\n",
       "    <tr>\n",
       "      <th>0</th>\n",
       "      <td>2021</td>\n",
       "      <td>01</td>\n",
       "      <td>20.753500</td>\n",
       "    </tr>\n",
       "    <tr>\n",
       "      <th>1</th>\n",
       "      <td>2021</td>\n",
       "      <td>02</td>\n",
       "      <td>20.350300</td>\n",
       "    </tr>\n",
       "    <tr>\n",
       "      <th>2</th>\n",
       "      <td>2021</td>\n",
       "      <td>03</td>\n",
       "      <td>21.319261</td>\n",
       "    </tr>\n",
       "    <tr>\n",
       "      <th>3</th>\n",
       "      <td>2021</td>\n",
       "      <td>04</td>\n",
       "      <td>22.012850</td>\n",
       "    </tr>\n",
       "    <tr>\n",
       "      <th>4</th>\n",
       "      <td>2021</td>\n",
       "      <td>05</td>\n",
       "      <td>23.962571</td>\n",
       "    </tr>\n",
       "  </tbody>\n",
       "</table>\n",
       "</div>"
      ],
      "text/plain": [
       "   year month   Apertura\n",
       "0  2021    01  20.753500\n",
       "1  2021    02  20.350300\n",
       "2  2021    03  21.319261\n",
       "3  2021    04  22.012850\n",
       "4  2021    05  23.962571"
      ]
     },
     "execution_count": 51,
     "metadata": {},
     "output_type": "execute_result"
    }
   ],
   "source": [
    "empresax.head()"
   ]
  },
  {
   "cell_type": "code",
   "execution_count": 52,
   "id": "5ed77451",
   "metadata": {},
   "outputs": [
    {
     "data": {
      "image/png": "[encoded data removed]",
      "text/plain": [
       "<Figure size 1440x576 with 1 Axes>"
      ]
     },
     "metadata": {},
     "output_type": "display_data"
    }
   ],
   "source": [
    "sns.lineplot(data = empresax, x = \"month\", y = \"Apertura\");"
   ]
  },
  {
   "cell_type": "code",
   "execution_count": 53,
   "id": "b735592f",
   "metadata": {},
   "outputs": [
    {
     "data": {
      "image/png": "[encoded data removed]",
      "text/plain": [
       "<Figure size 1440x576 with 1 Axes>"
      ]
     },
     "metadata": {},
     "output_type": "display_data"
    }
   ],
   "source": [
    "sns.lineplot(data = df2, x = \"Fecha\", y = \"Último\");"
   ]
  },
  {
   "cell_type": "code",
   "execution_count": null,
   "id": "c3e28aa8",
   "metadata": {},
   "outputs": [],
   "source": [
    "#Selector de archivos csv y filtrado por columnas"
   ]
  },
  {
   "cell_type": "code",
   "execution_count": null,
   "id": "0e2a47e3",
   "metadata": {},
   "outputs": [],
   "source": [
    "with open('data/Acciona.csv') as csvarchivo:\n",
    "    entrada = csv.DictReader(csvarchivo)\n",
    "    for reg in entrada:\n",
    "        print(reg['Último'])"
   ]
  },
  {
   "cell_type": "code",
   "execution_count": null,
   "id": "1d4919cc",
   "metadata": {},
   "outputs": [],
   "source": [
    "df = pd.read_csv(\"data/Acciona.csv\", sep=\";\")\n",
    "\n",
    "\n",
    "# Cambiando el tipo de dato en fecha\n",
    "df[\"Fecha\"] = pd.to_datetime(df[\"Fecha\"],format='%Y-%m-%d')\n",
    "\n",
    "\n",
    "\n",
    "# Creando función\n",
    "def funcion_graficar(valor):\n",
    "\n",
    "    #Filtrando el pais\n",
    "    df_filtrado = df[df[\"Último\"] == valor]\n",
    "    \n",
    "    \n",
    "    if df_filtrado.shape[0] == 0:\n",
    "        print(\"Empresa no encontrada!!\")\n",
    "    else:\n",
    "    # Graficando\n",
    "        df_filtrado.plot(x ='Fecha', y='Últ.Valor', kind = 'bar')\n",
    "\n",
    "# Corriendo función que genera la gráfica\n",
    "\n",
    "pais = input(\"Ingrese la empresa: \")\n",
    "funcion_graficar(valor)"
   ]
  }
 ],
 "metadata": {
  "kernelspec": {
   "display_name": "ironhack",
   "language": "python",
   "name": "ironhack"
  },
  "language_info": {
   "codemirror_mode": {
    "name": "ipython",
    "version": 3
   },
   "file_extension": ".py",
   "mimetype": "text/x-python",
   "name": "python",
   "nbconvert_exporter": "python",
   "pygments_lexer": "ipython3",
   "version": "3.8.5"
  }
 },
 "nbformat": 4,
 "nbformat_minor": 5
}
