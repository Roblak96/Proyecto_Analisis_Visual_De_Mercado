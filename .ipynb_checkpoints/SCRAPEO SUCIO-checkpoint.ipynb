{
 "cells": [
  {
   "cell_type": "code",
   "execution_count": 1,
   "id": "d26b3557",
   "metadata": {},
   "outputs": [],
   "source": [
    "import requests\n",
    "import pandas as pd\n",
    "from datetime import date\n",
    "from datetime import datetime\n",
    "import datetime\n",
    "import time\n",
    "import urllib\n",
    "from bs4 import BeautifulSoup\n",
    "import re"
   ]
  },
  {
   "cell_type": "code",
   "execution_count": 2,
   "id": "29f53f58",
   "metadata": {},
   "outputs": [],
   "source": [
    "url = 'https://www.bolsamadrid.es/esp/aspx/Mercados/Precios.aspx?indice=ESI100000000&punto=indice'"
   ]
  },
  {
   "cell_type": "code",
   "execution_count": 3,
   "id": "e043b7f3",
   "metadata": {},
   "outputs": [],
   "source": [
    "html_txt = urllib.request.urlopen(url)"
   ]
  },
  {
   "cell_type": "code",
   "execution_count": 4,
   "id": "3028c2e3",
   "metadata": {},
   "outputs": [],
   "source": [
    "soup = BeautifulSoup(html_txt)"
   ]
  },
  {
   "cell_type": "code",
   "execution_count": 11,
   "id": "3cc7e58f",
   "metadata": {},
   "outputs": [
    {
     "data": {
      "text/plain": [
       "'10,2000'"
      ]
     },
     "execution_count": 11,
     "metadata": {},
     "output_type": "execute_result"
    }
   ],
   "source": [
    "empresa = soup.find('td', text = 'REPSOL').find_next_siblings('td')\n",
    "Ultimo_valor = empresa [0].text"
   ]
  },
  {
   "cell_type": "code",
   "execution_count": 13,
   "id": "1cb5682e",
   "metadata": {},
   "outputs": [
    {
     "data": {
      "text/plain": [
       "'-1,07'"
      ]
     },
     "execution_count": 13,
     "metadata": {},
     "output_type": "execute_result"
    }
   ],
   "source": [
    "empresa = soup.find('td', text = 'REPSOL').find_next_siblings('td')\n",
    "Dif_porcentual = empresa [1].text\n",
    "Dif_porcentual"
   ]
  },
  {
   "cell_type": "code",
   "execution_count": 15,
   "id": "692cf282",
   "metadata": {},
   "outputs": [
    {
     "data": {
      "text/plain": [
       "'10,3540'"
      ]
     },
     "execution_count": 15,
     "metadata": {},
     "output_type": "execute_result"
    }
   ],
   "source": [
    "empresa = soup.find('td', text = 'REPSOL').find_next_siblings('td')\n",
    "Max_valor = empresa [2].text\n",
    "Max_valor"
   ]
  },
  {
   "cell_type": "code",
   "execution_count": null,
   "id": "d55261d7",
   "metadata": {},
   "outputs": [],
   "source": [
    "empresa = soup.find('td', text = 'REPSOL').find_next_siblings('td')\n",
    "Min_valor = empresa [3].text"
   ]
  },
  {
   "cell_type": "code",
   "execution_count": 29,
   "id": "cda32c50",
   "metadata": {},
   "outputs": [
    {
     "data": {
      "text/plain": [
       "'529.017'"
      ]
     },
     "execution_count": 29,
     "metadata": {},
     "output_type": "execute_result"
    }
   ],
   "source": [
    "empresa = soup.find('td', text = 'REPSOL').find_next_siblings('td')\n",
    "Nº_acciones = empresa [4].text\n",
    "Nº_acciones"
   ]
  },
  {
   "cell_type": "code",
   "execution_count": null,
   "id": "fdceb7bb",
   "metadata": {},
   "outputs": [],
   "source": [
    "empresa = soup.find('td', text = 'REPSOL').find_next_siblings('td')\n",
    "Efectivo_enmiles = empresa [5].text"
   ]
  },
  {
   "cell_type": "code",
   "execution_count": 27,
   "id": "6ce4d35c",
   "metadata": {},
   "outputs": [
    {
     "data": {
      "text/plain": [
       "'11:50:38'"
      ]
     },
     "execution_count": 27,
     "metadata": {},
     "output_type": "execute_result"
    }
   ],
   "source": [
    "empresa = soup.find('td', text = 'REPSOL').find_next_siblings('td')\n",
    "Ult_actualizacion = empresa [7].text\n",
    "Ult_actualizacion"
   ]
  },
  {
   "cell_type": "code",
   "execution_count": 99,
   "id": "8a111eac",
   "metadata": {
    "scrolled": true
   },
   "outputs": [
    {
     "name": "stdout",
     "output_type": "stream",
     "text": [
      "Dejar de actualizar a las:18:02:00\n"
     ]
    },
    {
     "ename": "AttributeError",
     "evalue": "'NoneType' object has no attribute 'find_next_siblings'",
     "output_type": "error",
     "traceback": [
      "\u001b[0;31m---------------------------------------------------------------------------\u001b[0m",
      "\u001b[0;31mAttributeError\u001b[0m                            Traceback (most recent call last)",
      "\u001b[0;32m<ipython-input-99-43a58445a630>\u001b[0m in \u001b[0;36m<module>\u001b[0;34m\u001b[0m\n\u001b[1;32m     10\u001b[0m     \u001b[0mNombre\u001b[0m \u001b[0;34m=\u001b[0m \u001b[0mre\u001b[0m\u001b[0;34m.\u001b[0m\u001b[0mfindall\u001b[0m\u001b[0;34m(\u001b[0m\u001b[0;34m'[A-Z]+'\u001b[0m\u001b[0;34m,\u001b[0m \u001b[0mstr\u001b[0m\u001b[0;34m(\u001b[0m\u001b[0mempresa\u001b[0m\u001b[0;34m)\u001b[0m\u001b[0;34m)\u001b[0m\u001b[0;34m[\u001b[0m\u001b[0;34m-\u001b[0m\u001b[0;36m1\u001b[0m\u001b[0;34m]\u001b[0m\u001b[0;34m\u001b[0m\u001b[0;34m\u001b[0m\u001b[0m\n\u001b[1;32m     11\u001b[0m \u001b[0;34m\u001b[0m\u001b[0m\n\u001b[0;32m---> 12\u001b[0;31m     \u001b[0mempresa\u001b[0m \u001b[0;34m=\u001b[0m \u001b[0msoup\u001b[0m\u001b[0;34m.\u001b[0m\u001b[0mfind\u001b[0m\u001b[0;34m(\u001b[0m\u001b[0;34m'td'\u001b[0m\u001b[0;34m,\u001b[0m \u001b[0mtext\u001b[0m \u001b[0;34m=\u001b[0m \u001b[0;34m'ACCIÓN'\u001b[0m\u001b[0;34m)\u001b[0m\u001b[0;34m.\u001b[0m\u001b[0mfind_next_siblings\u001b[0m\u001b[0;34m(\u001b[0m\u001b[0;34m'td'\u001b[0m\u001b[0;34m)\u001b[0m\u001b[0;34m\u001b[0m\u001b[0;34m\u001b[0m\u001b[0m\n\u001b[0m\u001b[1;32m     13\u001b[0m     \u001b[0mUltimo_valor\u001b[0m \u001b[0;34m=\u001b[0m \u001b[0mempresa\u001b[0m \u001b[0;34m[\u001b[0m\u001b[0;36m0\u001b[0m\u001b[0;34m]\u001b[0m\u001b[0;34m.\u001b[0m\u001b[0mtext\u001b[0m\u001b[0;34m\u001b[0m\u001b[0;34m\u001b[0m\u001b[0m\n\u001b[1;32m     14\u001b[0m \u001b[0;34m\u001b[0m\u001b[0m\n",
      "\u001b[0;31mAttributeError\u001b[0m: 'NoneType' object has no attribute 'find_next_siblings'"
     ]
    }
   ],
   "source": [
    "Acabar_actualizacion = input('Dejar de actualizar a las:')\n",
    "Ultimo_valor = []\n",
    "Dif_porcentual = []\n",
    "while Ult_actualizacion <= Acabar_actualizacion :\n",
    "    url = 'https://www.bolsamadrid.es/esp/aspx/Mercados/Precios.aspx?indice=ESI100000000&punto=indice'\n",
    "    html_txt = urllib.request.urlopen(url)\n",
    "    soup = BeautifulSoup(html_txt)\n",
    "    \n",
    "    empresa = soup.find('td',text = 'ACCIÓN')\n",
    "    Nombre = re.findall('[A-Z]+', str(empresa))[-1]\n",
    "    \n",
    "    empresa = soup.find('td', text = 'ACCIÓN').find_next_siblings('td')\n",
    "    Ultimo_valor = empresa [0].text\n",
    "    \n",
    "    empresa = soup.find('td', text = 'ACCIÓN').find_next_siblings('td')\n",
    "    Dif_porcentual = empresa [1].text\n",
    "    \n",
    "    empresa = soup.find('td', text = 'ACCIÓN').find_next_siblings('td')\n",
    "    Max_valor = empresa [2].text\n",
    "    \n",
    "    empresa = soup.find('td', text = 'ACCIÓN').find_next_siblings('td')\n",
    "    Min_valor = empresa [3].text\n",
    "    \n",
    "    empresa = soup.find('td', text = 'ACCIÓN').find_next_siblings('td')\n",
    "    Nº_acciones = empresa [4].text\n",
    "    \n",
    "    empresa = soup.find('td', text = 'ACCIÓN').find_next_siblings('td')\n",
    "    Efectivo_enmiles = empresa [5].text\n",
    "    \n",
    "    empresa = soup.find('td', text = 'ACCIÓN').find_next_siblings('td')\n",
    "    Ult_actualizacion = empresa [7].text\n",
    "    \n",
    "    empresa = soup.find('td', text = 'ACCIÓN').find_next_siblings('td')\n",
    "    Fecha = empresa [6].text\n",
    "    \n",
    "    \n",
    "    Diccionario = {'nombre-empresa':Nombre, 'Cotización':Ultimo_valor, 'Dif-porcentual':Dif_porcentual, 'Max-Valor':Max_valor, 'Min-valor':Min_valor, \n",
    "                  'Nº-acciones':Nº_acciones, 'Efectivo-enmiles':Efectivo_enmiles, 'Fecha1':Fecha}\n",
    "    print(Diccionario)\n",
    "    \n",
    "    df = pd.DataFrame(Diccionario, \n",
    "                      columns =['nombre-empresa', 'Cotización', 'Dif-porcentual',\n",
    "                                'Max-valor', 'Min-valor', 'Nº-acciones', 'Efectivo-enmiles', 'Fecha'], index = [0])\n",
    "    \n",
    "    time.sleep(30)\n",
    "\n",
    "print('SACABÓ')"
   ]
  },
  {
   "cell_type": "code",
   "execution_count": 74,
   "id": "e99c78c6",
   "metadata": {},
   "outputs": [
    {
     "data": {
      "text/html": [
       "<div>\n",
       "<style scoped>\n",
       "    .dataframe tbody tr th:only-of-type {\n",
       "        vertical-align: middle;\n",
       "    }\n",
       "\n",
       "    .dataframe tbody tr th {\n",
       "        vertical-align: top;\n",
       "    }\n",
       "\n",
       "    .dataframe thead th {\n",
       "        text-align: right;\n",
       "    }\n",
       "</style>\n",
       "<table border=\"1\" class=\"dataframe\">\n",
       "  <thead>\n",
       "    <tr style=\"text-align: right;\">\n",
       "      <th></th>\n",
       "      <th>nombre-empresa</th>\n",
       "      <th>Cotización</th>\n",
       "      <th>Dif-porcentual</th>\n",
       "      <th>Max-valor</th>\n",
       "      <th>Min-valor</th>\n",
       "      <th>Nº-acciones</th>\n",
       "      <th>Efectivo-enmiles</th>\n",
       "      <th>Fecha</th>\n",
       "    </tr>\n",
       "  </thead>\n",
       "  <tbody>\n",
       "    <tr>\n",
       "      <th>0</th>\n",
       "      <td>REPSOL</td>\n",
       "      <td>10,1520</td>\n",
       "      <td>-1,53</td>\n",
       "      <td>NaN</td>\n",
       "      <td>10,1000</td>\n",
       "      <td>1.329.280</td>\n",
       "      <td>13.553,00</td>\n",
       "      <td>NaN</td>\n",
       "    </tr>\n",
       "  </tbody>\n",
       "</table>\n",
       "</div>"
      ],
      "text/plain": [
       "  nombre-empresa Cotización Dif-porcentual Max-valor Min-valor Nº-acciones  \\\n",
       "0         REPSOL    10,1520          -1,53       NaN   10,1000   1.329.280   \n",
       "\n",
       "  Efectivo-enmiles Fecha  \n",
       "0        13.553,00   NaN  "
      ]
     },
     "execution_count": 74,
     "metadata": {},
     "output_type": "execute_result"
    }
   ],
   "source": [
    "df.head()"
   ]
  },
  {
   "cell_type": "code",
   "execution_count": 12,
   "id": "1933f2b6",
   "metadata": {},
   "outputs": [],
   "source": [
    "def get_data(nom):\n",
    "    \n",
    "    url = 'https://www.bolsamadrid.es/esp/aspx/Mercados/Precios.aspx?indice=ESI100000000&punto=indice'\n",
    "    html_txt = urllib.request.urlopen(url)\n",
    "    soup = BeautifulSoup(html_txt)\n",
    "    #empresa = soup.find('td', text = 'ACCION').find_next_siblings('td')\n",
    "    #Ult_actualizacion = empresa [7].text\n",
    "    \n",
    "    Ult_actualizacion = '09:00:00'\n",
    "    Acabar_actualizacion = input('Dejar de actualizar a las:')\n",
    "    Ultimo_valor = []\n",
    "    Dif_porcentual = []\n",
    "    \n",
    "    while Ult_actualizacion <= Acabar_actualizacion :\n",
    "       \n",
    "\n",
    "        empresa = soup.find('td',text = f'{nom}')\n",
    "        Nombre = re.findall('[A-Z]+', str(empresa))[-1]\n",
    "\n",
    "        empresa = soup.find('td', text = nom).find_next_siblings('td')\n",
    "        Ultimo_valor = empresa [0].text\n",
    "\n",
    "        empresa = soup.find('td', text = f'{nom}').find_next_siblings('td')\n",
    "        Dif_porcentual = empresa [1].text\n",
    "\n",
    "        empresa = soup.find('td', text = f'{nom}').find_next_siblings('td')\n",
    "        Max_valor = empresa [2].text\n",
    "\n",
    "        empresa = soup.find('td', text = f'{nom}').find_next_siblings('td')\n",
    "        Min_valor = empresa [3].text\n",
    "\n",
    "        empresa = soup.find('td', text = f'{nom}').find_next_siblings('td')\n",
    "        Nº_acciones = empresa [4].text\n",
    "\n",
    "        empresa = soup.find('td', text = f'{nom}').find_next_siblings('td')\n",
    "        Efectivo_enmiles = empresa [5].text\n",
    "\n",
    "        empresa = soup.find('td', text = f'{nom}').find_next_siblings('td')\n",
    "        Ult_actualizacion = empresa [7].text\n",
    "\n",
    "        empresa = soup.find('td', text = f'{nom}').find_next_siblings('td')\n",
    "        Fecha = empresa [6].text\n",
    "\n",
    "\n",
    "        Diccionario = {'nombre-empresa':Nombre, 'Cotización':Ultimo_valor, 'Dif-porcentual':Dif_porcentual, 'Max-Valor':Max_valor, 'Min-valor':Min_valor, \n",
    "                      'Nº-acciones':Nº_acciones, 'Efectivo-enmiles':Efectivo_enmiles, 'Fecha1':Fecha}\n",
    "        \n",
    "\n",
    "        df = pd.DataFrame(Diccionario, \n",
    "                          columns =['nombre-empresa', 'Cotización', 'Dif-porcentual',\n",
    "                                    'Max-valor', 'Min-valor', 'Nº-acciones', 'Efectivo-enmiles', 'Fecha'], index = [0])\n",
    "\n",
    "        time.sleep(15)\n",
    "\n",
    "        print('SACABÓ')\n",
    "        return df"
   ]
  },
  {
   "cell_type": "code",
   "execution_count": 40,
   "id": "b93ad9f5",
   "metadata": {},
   "outputs": [
    {
     "name": "stdout",
     "output_type": "stream",
     "text": [
      "Dejar de actualizar a las:19:00:00\n",
      "SACABÓ\n"
     ]
    }
   ],
   "source": [
    "df1 = get_data(\"VISCOFAN\")"
   ]
  },
  {
   "cell_type": "code",
   "execution_count": 34,
   "id": "613c9c10",
   "metadata": {},
   "outputs": [
    {
     "data": {
      "text/html": [
       "<div>\n",
       "<style scoped>\n",
       "    .dataframe tbody tr th:only-of-type {\n",
       "        vertical-align: middle;\n",
       "    }\n",
       "\n",
       "    .dataframe tbody tr th {\n",
       "        vertical-align: top;\n",
       "    }\n",
       "\n",
       "    .dataframe thead th {\n",
       "        text-align: right;\n",
       "    }\n",
       "</style>\n",
       "<table border=\"1\" class=\"dataframe\">\n",
       "  <thead>\n",
       "    <tr style=\"text-align: right;\">\n",
       "      <th></th>\n",
       "      <th>nombre-empresa</th>\n",
       "      <th>Cotización</th>\n",
       "      <th>Dif-porcentual</th>\n",
       "      <th>Max-valor</th>\n",
       "      <th>Min-valor</th>\n",
       "      <th>Nº-acciones</th>\n",
       "      <th>Efectivo-enmiles</th>\n",
       "      <th>Fecha</th>\n",
       "    </tr>\n",
       "  </thead>\n",
       "  <tbody>\n",
       "    <tr>\n",
       "      <th>0</th>\n",
       "      <td>REPSOL</td>\n",
       "      <td>10,0800</td>\n",
       "      <td>-0,55</td>\n",
       "      <td>NaN</td>\n",
       "      <td>10,0640</td>\n",
       "      <td>134.740</td>\n",
       "      <td>1.361,69</td>\n",
       "      <td>NaN</td>\n",
       "    </tr>\n",
       "  </tbody>\n",
       "</table>\n",
       "</div>"
      ],
      "text/plain": [
       "  nombre-empresa Cotización Dif-porcentual Max-valor Min-valor Nº-acciones  \\\n",
       "0         REPSOL    10,0800          -0,55       NaN   10,0640     134.740   \n",
       "\n",
       "  Efectivo-enmiles Fecha  \n",
       "0         1.361,69   NaN  "
      ]
     },
     "execution_count": 34,
     "metadata": {},
     "output_type": "execute_result"
    }
   ],
   "source": [
    "df1"
   ]
  },
  {
   "cell_type": "code",
   "execution_count": null,
   "id": "cfcc1d77",
   "metadata": {},
   "outputs": [],
   "source": []
  }
 ],
 "metadata": {
  "kernelspec": {
   "display_name": "ironhack",
   "language": "python",
   "name": "ironhack"
  },
  "language_info": {
   "codemirror_mode": {
    "name": "ipython",
    "version": 3
   },
   "file_extension": ".py",
   "mimetype": "text/x-python",
   "name": "python",
   "nbconvert_exporter": "python",
   "pygments_lexer": "ipython3",
   "version": "3.8.5"
  }
 },
 "nbformat": 4,
 "nbformat_minor": 5
}
